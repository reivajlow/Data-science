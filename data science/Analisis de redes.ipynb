{
 "cells": [
  {
   "cell_type": "markdown",
   "id": "2b35f1de",
   "metadata": {
    "slideshow": {
     "slide_type": "slide"
    }
   },
   "source": [
    "# Analisis de redes"
   ]
  },
  {
   "cell_type": "markdown",
   "id": "fb2c9246",
   "metadata": {
    "slideshow": {
     "slide_type": "subslide"
    }
   },
   "source": [
    "## Datos\n",
    "Los datos corresponden a una investigación en curso sobre las percepciones y prácticas del\n",
    "profesorado universitario sobre el uso de Wikipedia como recurso didáctico. Con base en un\n",
    "modelo de aceptación de tecnología, se analizan las relaciones dentro de las construcciones\n",
    "internas y externas del modelo. Tanto la percepción de la opinión de los colegas sobre Wikipedia\n",
    "como la calidad percibida de la información en Wikipedia juegan un papel central en el modelo\n",
    "obtenido.\n"
   ]
  },
  {
   "cell_type": "markdown",
   "id": "7b839e7f",
   "metadata": {
    "slideshow": {
     "slide_type": "subslide"
    }
   },
   "source": [
    "## variables\n",
    "Se dividió la información en dos partes, la primera con consta de atributos personas de cada\n",
    "persona entrevistada (como género, edad, usuario registrado en Wikipedia, etc) y la segunda\n",
    "parte que contiene elementos de la encuesta realizados en una escala de Likert (1-5) que van\n",
    "desde muy en desacuerdo/nunca (1) hasta muy de acuerdo/siempre (5).\n"
   ]
  },
  {
   "cell_type": "code",
   "execution_count": null,
   "id": "5f660e25",
   "metadata": {
    "slideshow": {
     "slide_type": "skip"
    }
   },
   "outputs": [],
   "source": []
  },
  {
   "cell_type": "code",
   "execution_count": 30,
   "id": "36daeada",
   "metadata": {
    "slideshow": {
     "slide_type": "skip"
    }
   },
   "outputs": [],
   "source": [
    "import networkx as nx\n",
    "import pandas as pd\n",
    "import csv\n",
    "import matplotlib.pyplot as plt\n",
    "import seaborn as sns"
   ]
  },
  {
   "cell_type": "markdown",
   "id": "4aa92d79",
   "metadata": {
    "slideshow": {
     "slide_type": "subslide"
    }
   },
   "source": [
    "### Importamos los datos"
   ]
  },
  {
   "cell_type": "code",
   "execution_count": 3,
   "id": "66c8463f",
   "metadata": {
    "slideshow": {
     "slide_type": "subslide"
    }
   },
   "outputs": [
    {
     "data": {
      "text/html": [
       "<div>\n",
       "<style scoped>\n",
       "    .dataframe tbody tr th:only-of-type {\n",
       "        vertical-align: middle;\n",
       "    }\n",
       "\n",
       "    .dataframe tbody tr th {\n",
       "        vertical-align: top;\n",
       "    }\n",
       "\n",
       "    .dataframe thead th {\n",
       "        text-align: right;\n",
       "    }\n",
       "</style>\n",
       "<table border=\"1\" class=\"dataframe\">\n",
       "  <thead>\n",
       "    <tr style=\"text-align: right;\">\n",
       "      <th></th>\n",
       "      <th>Unnamed: 0</th>\n",
       "      <th>AGE</th>\n",
       "      <th>GENDER</th>\n",
       "      <th>DOMAIN</th>\n",
       "      <th>PhD</th>\n",
       "      <th>YEARSEXP</th>\n",
       "      <th>UNIVERSITY</th>\n",
       "      <th>PU1</th>\n",
       "      <th>PU2</th>\n",
       "      <th>PU3</th>\n",
       "      <th>PEU1</th>\n",
       "      <th>PEU2</th>\n",
       "      <th>PEU3</th>\n",
       "    </tr>\n",
       "  </thead>\n",
       "  <tbody>\n",
       "    <tr>\n",
       "      <th>0</th>\n",
       "      <td>1</td>\n",
       "      <td>40</td>\n",
       "      <td>0</td>\n",
       "      <td>Ciencias</td>\n",
       "      <td>1</td>\n",
       "      <td>14</td>\n",
       "      <td>1</td>\n",
       "      <td>4</td>\n",
       "      <td>4</td>\n",
       "      <td>3</td>\n",
       "      <td>5</td>\n",
       "      <td>5</td>\n",
       "      <td>3</td>\n",
       "    </tr>\n",
       "    <tr>\n",
       "      <th>1</th>\n",
       "      <td>2</td>\n",
       "      <td>42</td>\n",
       "      <td>0</td>\n",
       "      <td>Derecho y Politica</td>\n",
       "      <td>1</td>\n",
       "      <td>18</td>\n",
       "      <td>1</td>\n",
       "      <td>2</td>\n",
       "      <td>3</td>\n",
       "      <td>3</td>\n",
       "      <td>4</td>\n",
       "      <td>4</td>\n",
       "      <td>3</td>\n",
       "    </tr>\n",
       "    <tr>\n",
       "      <th>2</th>\n",
       "      <td>3</td>\n",
       "      <td>37</td>\n",
       "      <td>0</td>\n",
       "      <td>Ingenieria y Arquitectura</td>\n",
       "      <td>1</td>\n",
       "      <td>13</td>\n",
       "      <td>1</td>\n",
       "      <td>2</td>\n",
       "      <td>2</td>\n",
       "      <td>2</td>\n",
       "      <td>4</td>\n",
       "      <td>4</td>\n",
       "      <td>3</td>\n",
       "    </tr>\n",
       "    <tr>\n",
       "      <th>3</th>\n",
       "      <td>4</td>\n",
       "      <td>40</td>\n",
       "      <td>0</td>\n",
       "      <td>Ingenieria y Arquitectura</td>\n",
       "      <td>0</td>\n",
       "      <td>13</td>\n",
       "      <td>1</td>\n",
       "      <td>3</td>\n",
       "      <td>3</td>\n",
       "      <td>4</td>\n",
       "      <td>3</td>\n",
       "      <td>3</td>\n",
       "      <td>3</td>\n",
       "    </tr>\n",
       "    <tr>\n",
       "      <th>4</th>\n",
       "      <td>5</td>\n",
       "      <td>47</td>\n",
       "      <td>0</td>\n",
       "      <td>Ingenieria y Arquitectura</td>\n",
       "      <td>0</td>\n",
       "      <td>17</td>\n",
       "      <td>1</td>\n",
       "      <td>2</td>\n",
       "      <td>2</td>\n",
       "      <td>3</td>\n",
       "      <td>5</td>\n",
       "      <td>4</td>\n",
       "      <td>3</td>\n",
       "    </tr>\n",
       "  </tbody>\n",
       "</table>\n",
       "</div>"
      ],
      "text/plain": [
       "   Unnamed: 0  AGE  GENDER                     DOMAIN  PhD  YEARSEXP  \\\n",
       "0           1   40       0                   Ciencias    1        14   \n",
       "1           2   42       0         Derecho y Politica    1        18   \n",
       "2           3   37       0  Ingenieria y Arquitectura    1        13   \n",
       "3           4   40       0  Ingenieria y Arquitectura    0        13   \n",
       "4           5   47       0  Ingenieria y Arquitectura    0        17   \n",
       "\n",
       "   UNIVERSITY  PU1  PU2  PU3  PEU1  PEU2  PEU3  \n",
       "0           1    4    4    3     5     5     3  \n",
       "1           1    2    3    3     4     4     3  \n",
       "2           1    2    2    2     4     4     3  \n",
       "3           1    3    3    4     3     3     3  \n",
       "4           1    2    2    3     5     4     3  "
      ]
     },
     "execution_count": 3,
     "metadata": {},
     "output_type": "execute_result"
    }
   ],
   "source": [
    "df = pd.read_csv('dfmini.csv')\n",
    "\n",
    "#df.info()\n",
    "df.head()"
   ]
  },
  {
   "cell_type": "markdown",
   "id": "e3c38141",
   "metadata": {
    "slideshow": {
     "slide_type": "slide"
    }
   },
   "source": [
    "# analisis exploratorio"
   ]
  },
  {
   "cell_type": "code",
   "execution_count": 27,
   "id": "a9fc2df4",
   "metadata": {
    "slideshow": {
     "slide_type": "subslide"
    }
   },
   "outputs": [
    {
     "data": {
      "text/html": [
       "<div>\n",
       "<style scoped>\n",
       "    .dataframe tbody tr th:only-of-type {\n",
       "        vertical-align: middle;\n",
       "    }\n",
       "\n",
       "    .dataframe tbody tr th {\n",
       "        vertical-align: top;\n",
       "    }\n",
       "\n",
       "    .dataframe thead th {\n",
       "        text-align: right;\n",
       "    }\n",
       "</style>\n",
       "<table border=\"1\" class=\"dataframe\">\n",
       "  <thead>\n",
       "    <tr style=\"text-align: right;\">\n",
       "      <th></th>\n",
       "      <th>Unnamed: 0</th>\n",
       "      <th>AGE</th>\n",
       "      <th>GENDER</th>\n",
       "      <th>PhD</th>\n",
       "      <th>YEARSEXP</th>\n",
       "      <th>UNIVERSITY</th>\n",
       "      <th>PU1</th>\n",
       "      <th>PU2</th>\n",
       "      <th>PU3</th>\n",
       "      <th>PEU1</th>\n",
       "      <th>PEU2</th>\n",
       "      <th>PEU3</th>\n",
       "    </tr>\n",
       "  </thead>\n",
       "  <tbody>\n",
       "    <tr>\n",
       "      <th>count</th>\n",
       "      <td>50.00000</td>\n",
       "      <td>50.000000</td>\n",
       "      <td>50.000000</td>\n",
       "      <td>50.000000</td>\n",
       "      <td>50.000000</td>\n",
       "      <td>50.0</td>\n",
       "      <td>50.000000</td>\n",
       "      <td>50.000000</td>\n",
       "      <td>50.00000</td>\n",
       "      <td>50.000000</td>\n",
       "      <td>50.000000</td>\n",
       "      <td>50.000000</td>\n",
       "    </tr>\n",
       "    <tr>\n",
       "      <th>mean</th>\n",
       "      <td>25.50000</td>\n",
       "      <td>40.900000</td>\n",
       "      <td>0.320000</td>\n",
       "      <td>0.740000</td>\n",
       "      <td>11.680000</td>\n",
       "      <td>1.0</td>\n",
       "      <td>3.280000</td>\n",
       "      <td>3.260000</td>\n",
       "      <td>3.62000</td>\n",
       "      <td>4.260000</td>\n",
       "      <td>4.120000</td>\n",
       "      <td>3.320000</td>\n",
       "    </tr>\n",
       "    <tr>\n",
       "      <th>std</th>\n",
       "      <td>14.57738</td>\n",
       "      <td>7.738718</td>\n",
       "      <td>0.471212</td>\n",
       "      <td>0.443087</td>\n",
       "      <td>6.313057</td>\n",
       "      <td>0.0</td>\n",
       "      <td>0.948468</td>\n",
       "      <td>0.828325</td>\n",
       "      <td>0.85452</td>\n",
       "      <td>0.750782</td>\n",
       "      <td>0.659004</td>\n",
       "      <td>0.683329</td>\n",
       "    </tr>\n",
       "    <tr>\n",
       "      <th>min</th>\n",
       "      <td>1.00000</td>\n",
       "      <td>29.000000</td>\n",
       "      <td>0.000000</td>\n",
       "      <td>0.000000</td>\n",
       "      <td>2.000000</td>\n",
       "      <td>1.0</td>\n",
       "      <td>2.000000</td>\n",
       "      <td>2.000000</td>\n",
       "      <td>2.00000</td>\n",
       "      <td>3.000000</td>\n",
       "      <td>2.000000</td>\n",
       "      <td>2.000000</td>\n",
       "    </tr>\n",
       "    <tr>\n",
       "      <th>25%</th>\n",
       "      <td>13.25000</td>\n",
       "      <td>35.250000</td>\n",
       "      <td>0.000000</td>\n",
       "      <td>0.250000</td>\n",
       "      <td>7.000000</td>\n",
       "      <td>1.0</td>\n",
       "      <td>3.000000</td>\n",
       "      <td>3.000000</td>\n",
       "      <td>3.00000</td>\n",
       "      <td>4.000000</td>\n",
       "      <td>4.000000</td>\n",
       "      <td>3.000000</td>\n",
       "    </tr>\n",
       "    <tr>\n",
       "      <th>50%</th>\n",
       "      <td>25.50000</td>\n",
       "      <td>40.000000</td>\n",
       "      <td>0.000000</td>\n",
       "      <td>1.000000</td>\n",
       "      <td>12.000000</td>\n",
       "      <td>1.0</td>\n",
       "      <td>3.000000</td>\n",
       "      <td>3.000000</td>\n",
       "      <td>4.00000</td>\n",
       "      <td>4.000000</td>\n",
       "      <td>4.000000</td>\n",
       "      <td>3.000000</td>\n",
       "    </tr>\n",
       "    <tr>\n",
       "      <th>75%</th>\n",
       "      <td>37.75000</td>\n",
       "      <td>45.500000</td>\n",
       "      <td>1.000000</td>\n",
       "      <td>1.000000</td>\n",
       "      <td>15.000000</td>\n",
       "      <td>1.0</td>\n",
       "      <td>4.000000</td>\n",
       "      <td>4.000000</td>\n",
       "      <td>4.00000</td>\n",
       "      <td>5.000000</td>\n",
       "      <td>4.750000</td>\n",
       "      <td>4.000000</td>\n",
       "    </tr>\n",
       "    <tr>\n",
       "      <th>max</th>\n",
       "      <td>50.00000</td>\n",
       "      <td>62.000000</td>\n",
       "      <td>1.000000</td>\n",
       "      <td>1.000000</td>\n",
       "      <td>36.000000</td>\n",
       "      <td>1.0</td>\n",
       "      <td>5.000000</td>\n",
       "      <td>5.000000</td>\n",
       "      <td>5.00000</td>\n",
       "      <td>5.000000</td>\n",
       "      <td>5.000000</td>\n",
       "      <td>5.000000</td>\n",
       "    </tr>\n",
       "  </tbody>\n",
       "</table>\n",
       "</div>"
      ],
      "text/plain": [
       "       Unnamed: 0        AGE     GENDER        PhD   YEARSEXP  UNIVERSITY  \\\n",
       "count    50.00000  50.000000  50.000000  50.000000  50.000000        50.0   \n",
       "mean     25.50000  40.900000   0.320000   0.740000  11.680000         1.0   \n",
       "std      14.57738   7.738718   0.471212   0.443087   6.313057         0.0   \n",
       "min       1.00000  29.000000   0.000000   0.000000   2.000000         1.0   \n",
       "25%      13.25000  35.250000   0.000000   0.250000   7.000000         1.0   \n",
       "50%      25.50000  40.000000   0.000000   1.000000  12.000000         1.0   \n",
       "75%      37.75000  45.500000   1.000000   1.000000  15.000000         1.0   \n",
       "max      50.00000  62.000000   1.000000   1.000000  36.000000         1.0   \n",
       "\n",
       "             PU1        PU2       PU3       PEU1       PEU2       PEU3  \n",
       "count  50.000000  50.000000  50.00000  50.000000  50.000000  50.000000  \n",
       "mean    3.280000   3.260000   3.62000   4.260000   4.120000   3.320000  \n",
       "std     0.948468   0.828325   0.85452   0.750782   0.659004   0.683329  \n",
       "min     2.000000   2.000000   2.00000   3.000000   2.000000   2.000000  \n",
       "25%     3.000000   3.000000   3.00000   4.000000   4.000000   3.000000  \n",
       "50%     3.000000   3.000000   4.00000   4.000000   4.000000   3.000000  \n",
       "75%     4.000000   4.000000   4.00000   5.000000   4.750000   4.000000  \n",
       "max     5.000000   5.000000   5.00000   5.000000   5.000000   5.000000  "
      ]
     },
     "execution_count": 27,
     "metadata": {},
     "output_type": "execute_result"
    }
   ],
   "source": [
    "df.describe()"
   ]
  },
  {
   "cell_type": "code",
   "execution_count": 28,
   "id": "da3c63a7",
   "metadata": {
    "slideshow": {
     "slide_type": "subslide"
    }
   },
   "outputs": [
    {
     "data": {
      "text/plain": [
       "Unnamed: 0    0\n",
       "AGE           0\n",
       "GENDER        0\n",
       "DOMAIN        0\n",
       "PhD           0\n",
       "YEARSEXP      0\n",
       "UNIVERSITY    0\n",
       "PU1           0\n",
       "PU2           0\n",
       "PU3           0\n",
       "PEU1          0\n",
       "PEU2          0\n",
       "PEU3          0\n",
       "dtype: int64"
      ]
     },
     "execution_count": 28,
     "metadata": {},
     "output_type": "execute_result"
    }
   ],
   "source": [
    "df.isnull().sum()"
   ]
  },
  {
   "cell_type": "code",
   "execution_count": 38,
   "id": "35f82fe8",
   "metadata": {
    "slideshow": {
     "slide_type": "subslide"
    }
   },
   "outputs": [
    {
     "name": "stderr",
     "output_type": "stream",
     "text": [
      "C:\\Users\\javoe\\anaconda3\\lib\\site-packages\\seaborn\\_decorators.py:36: FutureWarning: Pass the following variable as a keyword arg: x. From version 0.12, the only valid positional argument will be `data`, and passing other arguments without an explicit keyword will result in an error or misinterpretation.\n",
      "  warnings.warn(\n"
     ]
    },
    {
     "data": {
      "text/plain": [
       "<AxesSubplot:xlabel='AGE', ylabel='count'>"
      ]
     },
     "execution_count": 38,
     "metadata": {},
     "output_type": "execute_result"
    },
    {
     "data": {
      "image/png": "[encoded data removed]",
      "text/plain": [
       "<Figure size 432x288 with 1 Axes>"
      ]
     },
     "metadata": {
      "needs_background": "light"
     },
     "output_type": "display_data"
    }
   ],
   "source": [
    "sns.countplot(df['AGE'])"
   ]
  },
  {
   "cell_type": "code",
   "execution_count": 37,
   "id": "6b425ad3",
   "metadata": {
    "slideshow": {
     "slide_type": "subslide"
    }
   },
   "outputs": [
    {
     "name": "stderr",
     "output_type": "stream",
     "text": [
      "C:\\Users\\javoe\\anaconda3\\lib\\site-packages\\seaborn\\_decorators.py:36: FutureWarning: Pass the following variable as a keyword arg: x. From version 0.12, the only valid positional argument will be `data`, and passing other arguments without an explicit keyword will result in an error or misinterpretation.\n",
      "  warnings.warn(\n"
     ]
    },
    {
     "data": {
      "text/plain": [
       "<AxesSubplot:xlabel='GENDER', ylabel='count'>"
      ]
     },
     "execution_count": 37,
     "metadata": {},
     "output_type": "execute_result"
    },
    {
     "data": {
      "image/png": "[encoded data removed]",
      "text/plain": [
       "<Figure size 432x288 with 1 Axes>"
      ]
     },
     "metadata": {
      "needs_background": "light"
     },
     "output_type": "display_data"
    }
   ],
   "source": [
    "sns.countplot(df['GENDER'])"
   ]
  },
  {
   "cell_type": "code",
   "execution_count": 40,
   "id": "a4765b02",
   "metadata": {
    "slideshow": {
     "slide_type": "subslide"
    }
   },
   "outputs": [
    {
     "name": "stderr",
     "output_type": "stream",
     "text": [
      "C:\\Users\\javoe\\anaconda3\\lib\\site-packages\\seaborn\\_decorators.py:36: FutureWarning: Pass the following variable as a keyword arg: x. From version 0.12, the only valid positional argument will be `data`, and passing other arguments without an explicit keyword will result in an error or misinterpretation.\n",
      "  warnings.warn(\n"
     ]
    },
    {
     "data": {
      "text/plain": [
       "<AxesSubplot:xlabel='DOMAIN', ylabel='count'>"
      ]
     },
     "execution_count": 40,
     "metadata": {},
     "output_type": "execute_result"
    },
    {
     "data": {
      "image/png": "[encoded data removed]",
      "text/plain": [
       "<Figure size 432x288 with 1 Axes>"
      ]
     },
     "metadata": {
      "needs_background": "light"
     },
     "output_type": "display_data"
    }
   ],
   "source": [
    "sns.countplot(df['DOMAIN'])"
   ]
  },
  {
   "cell_type": "code",
   "execution_count": 35,
   "id": "bac5cc01",
   "metadata": {},
   "outputs": [
    {
     "data": {
      "text/plain": [
       "<AxesSubplot:>"
      ]
     },
     "execution_count": 35,
     "metadata": {},
     "output_type": "execute_result"
    },
    {
     "data": {
      "image/png": "[encoded data removed]",
      "text/plain": [
       "<Figure size 432x288 with 2 Axes>"
      ]
     },
     "metadata": {
      "needs_background": "light"
     },
     "output_type": "display_data"
    }
   ],
   "source": [
    "sns.heatmap(df.corr())"
   ]
  },
  {
   "cell_type": "code",
   "execution_count": null,
   "id": "f4bee681",
   "metadata": {
    "slideshow": {
     "slide_type": "skip"
    }
   },
   "outputs": [],
   "source": [
    "d = tuple( ,dict([(i,[a,b]) for i,a,b in zip(df['AGE'], df['Age'],df['Course'])]))\n",
    "print(d)\n",
    "\n",
    "nodes = list([tuple(,dict())for i])\n"
   ]
  },
  {
   "cell_type": "code",
   "execution_count": 44,
   "id": "ad601c64",
   "metadata": {
    "slideshow": {
     "slide_type": "skip"
    }
   },
   "outputs": [],
   "source": [
    "#pasar data frame a nodos\n",
    "atributes = [1,2,3,4,6] #lista de indices de columnas que son atributos del nodo\n",
    "x = list([tuple([i,df.iloc[i:i+1,atributes].to_dict(\"records\")[0]]) for i in range(df.shape[0])])\n",
    "# '''otra forma recorrer lista de diccionarios transformando cada\n",
    "# elemento de la lista a una tupla tipo(diccionario[0],diccionario[-0]\n",
    "# seria algo del siguiente estilo\n",
    "# lista = lista de diccionarios tipo [{},{},{}]\n",
    "# nodos = [tuple([dic[nombre],dic[atributos]) for dic in lista]  quizas agregar list() al principio\n",
    "# dic[nombre] debe ser un string\n",
    "# dic[atributos] debe ser diccionario de atributos\n",
    "# '''\n",
    "\n"
   ]
  },
  {
   "cell_type": "code",
   "execution_count": 47,
   "id": "12405611",
   "metadata": {
    "slideshow": {
     "slide_type": "skip"
    }
   },
   "outputs": [],
   "source": [
    "# #G.add_nodes_from([\"Meg Ryan\", \"Parker Posey\", \"Lisa Kudrow\"])\n",
    "# '''\n",
    "# G.add_nodes_from([\n",
    "#     (4, {\"color\": \"red\"}),\n",
    "#     (5, {\"color\": \"green\"}),\n",
    "# ])\n",
    "# '''\n",
    "# # df.shape[0]"
   ]
  },
  {
   "cell_type": "markdown",
   "id": "a36eaf4c",
   "metadata": {
    "slideshow": {
     "slide_type": "slide"
    }
   },
   "source": [
    "# Redes"
   ]
  },
  {
   "cell_type": "markdown",
   "id": "f25f90b9",
   "metadata": {
    "slideshow": {
     "slide_type": "slide"
    }
   },
   "source": [
    "### Definimos los nodos"
   ]
  },
  {
   "cell_type": "code",
   "execution_count": 49,
   "id": "9a6f1116",
   "metadata": {
    "slideshow": {
     "slide_type": "fragment"
    }
   },
   "outputs": [],
   "source": [
    "#pasar data frame a nodos\n",
    "atributes = [1,2,3,4,6] #lista de indices de columnas que son atributos del nodo\n",
    "nodes = list([tuple([i,df.iloc[i:i+1,atributes].to_dict(\"records\")[0]]) for i in range(df.shape[0])]) #falta robustes en nombre acceder a el mediante df['nombre'][indice]\n",
    "G = nx.Graph()\n",
    "G.add_nodes_from(nodes) # seeting nodes names"
   ]
  },
  {
   "cell_type": "code",
   "execution_count": 53,
   "id": "740effa1",
   "metadata": {
    "slideshow": {
     "slide_type": "fragment"
    }
   },
   "outputs": [
    {
     "data": {
      "text/plain": [
       "NodeView((0, 1, 2, 3, 4, 5, 6, 7, 8, 9, 10, 11, 12, 13, 14, 15, 16, 17, 18, 19, 20, 21, 22, 23, 24, 25, 26, 27, 28, 29, 30, 31, 32, 33, 34, 35, 36, 37, 38, 39, 40, 41, 42, 43, 44, 45, 46, 47, 48, 49))"
      ]
     },
     "execution_count": 53,
     "metadata": {},
     "output_type": "execute_result"
    }
   ],
   "source": [
    "G.nodes"
   ]
  },
  {
   "cell_type": "code",
   "execution_count": 42,
   "id": "407a3af0",
   "metadata": {
    "slideshow": {
     "slide_type": "skip"
    }
   },
   "outputs": [],
   "source": [
    "# G.nodes(data=True)\n",
    "# nx.get_node_attributes(G, \"name\")\n",
    "#print(G[0]) #acceder a nodos a los cuales esta conectado"
   ]
  },
  {
   "cell_type": "markdown",
   "id": "5661c857",
   "metadata": {
    "slideshow": {
     "slide_type": "slide"
    }
   },
   "source": [
    "## Agregando aristas"
   ]
  },
  {
   "cell_type": "code",
   "execution_count": null,
   "id": "4a18024f",
   "metadata": {
    "slideshow": {
     "slide_type": "skip"
    }
   },
   "outputs": [],
   "source": [
    "''' Agregar aristas mediante doble loop comparando preguntas de las encuestas para dar peso\n",
    "y comparando atributos en comun entre nodos para asignarlos como atributos a la arista\n",
    "Warning: el loop interno sera cada vez mas pequeno para evitar duplicar aristas el ultimo nodo no se compara con ningun otro\n",
    "'''\n",
    "\n",
    "# simplificar crear conexion si solo si existe coincidencia... coincidencia en que? en atributos o en respuestas de un tema?\n",
    "# o en todas las respuestas?????"
   ]
  },
  {
   "cell_type": "code",
   "execution_count": 51,
   "id": "5bef8c1d",
   "metadata": {
    "slideshow": {
     "slide_type": "subslide"
    }
   },
   "outputs": [
    {
     "data": {
      "text/plain": [
       "EdgeView([(1, 14), (1, 23), (1, 40), (1, 41), (2, 24), (2, 34), (3, 6), (3, 13), (3, 21), (3, 49), (5, 8), (5, 29), (5, 30), (6, 13), (6, 21), (6, 49), (7, 11), (7, 15), (7, 16), (7, 19), (7, 20), (7, 37), (7, 39), (7, 48), (8, 29), (8, 30), (10, 12), (10, 17), (10, 18), (11, 15), (11, 16), (11, 19), (11, 20), (11, 37), (11, 39), (11, 48), (12, 17), (12, 18), (13, 21), (13, 49), (14, 23), (14, 40), (14, 41), (15, 16), (15, 19), (15, 20), (15, 37), (15, 39), (15, 48), (16, 19), (16, 20), (16, 37), (16, 39), (16, 48), (17, 18), (19, 20), (19, 37), (19, 39), (19, 48), (20, 37), (20, 39), (20, 48), (21, 49), (22, 35), (22, 36), (22, 43), (22, 45), (23, 40), (23, 41), (24, 34), (26, 38), (28, 33), (29, 30), (31, 32), (31, 46), (32, 46), (35, 36), (35, 43), (35, 45), (36, 43), (36, 45), (37, 39), (37, 48), (39, 48), (40, 41), (43, 45)])"
      ]
     },
     "execution_count": 51,
     "metadata": {},
     "output_type": "execute_result"
    }
   ],
   "source": [
    "n,ite= df.shape[0],0\n",
    "for nodo in range(n):\n",
    "    ite += 1\n",
    "    for nodo2 in range(ite,n):\n",
    "        #print(nodo,nodo2)\n",
    "        if df.PU1[nodo] == df.PU1[nodo2] and df.PU2[nodo] == df.PU2[nodo2] and df.PU3[nodo] == df.PU3[nodo2]:\n",
    "            G.add_edge(nodo,nodo2)\n",
    "    pass\n",
    "G.edges"
   ]
  },
  {
   "cell_type": "markdown",
   "id": "7d36e0d8",
   "metadata": {
    "slideshow": {
     "slide_type": "slide"
    }
   },
   "source": [
    "# Segunda red\n"
   ]
  },
  {
   "cell_type": "markdown",
   "id": "ac6e5fb5",
   "metadata": {
    "slideshow": {
     "slide_type": "slide"
    }
   },
   "source": [
    "### Definimos los nodos"
   ]
  },
  {
   "cell_type": "code",
   "execution_count": 54,
   "id": "ea7693b5",
   "metadata": {
    "slideshow": {
     "slide_type": "subslide"
    }
   },
   "outputs": [
    {
     "data": {
      "text/plain": [
       "NodeView((0, 1, 2, 3, 4, 5, 6, 7, 8, 9, 10, 11, 12, 13, 14, 15, 16, 17, 18, 19, 20, 21, 22, 23, 24, 25, 26, 27, 28, 29, 30, 31, 32, 33, 34, 35, 36, 37, 38, 39, 40, 41, 42, 43, 44, 45, 46, 47, 48, 49))"
      ]
     },
     "execution_count": 54,
     "metadata": {},
     "output_type": "execute_result"
    }
   ],
   "source": [
    "#pasar data frame a nodos\n",
    "atributes = [1,2,3,4,6] #lista de indices de columnas que son atributos del nodo\n",
    "nodes = list([tuple([i,df.iloc[i:i+1,atributes].to_dict(\"records\")[0]]) for i in range(df.shape[0])]) #falta robustes en nombre acceder a el mediante df['nombre'][indice]\n",
    "F = nx.Graph()\n",
    "F.add_nodes_from(nodes) # seeting nodes names\n",
    "F.nodes"
   ]
  },
  {
   "cell_type": "markdown",
   "id": "f585fe3d",
   "metadata": {
    "slideshow": {
     "slide_type": "slide"
    }
   },
   "source": [
    "## Agregando aristas"
   ]
  },
  {
   "cell_type": "code",
   "execution_count": 55,
   "id": "74e33e4d",
   "metadata": {
    "slideshow": {
     "slide_type": "subslide"
    }
   },
   "outputs": [
    {
     "data": {
      "text/plain": [
       "EdgeView([(0, 15), (1, 2), (1, 13), (1, 20), (1, 34), (1, 35), (1, 40), (2, 13), (2, 20), (2, 34), (2, 35), (2, 40), (3, 49), (4, 10), (4, 16), (4, 17), (4, 21), (4, 26), (4, 42), (4, 43), (5, 47), (6, 8), (6, 25), (6, 30), (8, 25), (8, 30), (9, 12), (9, 14), (9, 32), (9, 39), (10, 16), (10, 17), (10, 21), (10, 26), (10, 42), (10, 43), (12, 14), (12, 32), (12, 39), (13, 20), (13, 34), (13, 35), (13, 40), (14, 32), (14, 39), (16, 17), (16, 21), (16, 26), (16, 42), (16, 43), (17, 21), (17, 26), (17, 42), (17, 43), (18, 37), (19, 28), (19, 33), (20, 34), (20, 35), (20, 40), (21, 26), (21, 42), (21, 43), (22, 31), (22, 46), (25, 30), (26, 42), (26, 43), (28, 33), (31, 46), (32, 39), (34, 35), (34, 40), (35, 40), (36, 41), (38, 48), (42, 43)])"
      ]
     },
     "execution_count": 55,
     "metadata": {},
     "output_type": "execute_result"
    }
   ],
   "source": [
    "n,ite= df.shape[0],0\n",
    "for nodo in range(n):\n",
    "    ite += 1\n",
    "    for nodo2 in range(ite,n):\n",
    "        #print(nodo,nodo2)\n",
    "        if df.PEU1[nodo] == df.PEU1[nodo2] and df.PEU2[nodo] == df.PEU2[nodo2] and df.PEU3[nodo] == df.PEU3[nodo2]:\n",
    "            F.add_edge(nodo,nodo2)\n",
    "    pass\n",
    "F.edges"
   ]
  },
  {
   "cell_type": "code",
   "execution_count": 56,
   "id": "47ac10e5",
   "metadata": {
    "slideshow": {
     "slide_type": "subslide"
    }
   },
   "outputs": [
    {
     "name": "stdout",
     "output_type": "stream",
     "text": [
      "El numero de vertices del primer grafo es:  86\n",
      "El numero de vertices del segundo grafo es:  77\n"
     ]
    }
   ],
   "source": [
    "print(\"El numero de vertices del primer grafo es: \",len(G. edges))\n",
    "print(\"El numero de vertices del segundo grafo es: \",len(F. edges))"
   ]
  },
  {
   "cell_type": "code",
   "execution_count": 58,
   "id": "9e380f03",
   "metadata": {
    "slideshow": {
     "slide_type": "subslide"
    }
   },
   "outputs": [
    {
     "name": "stdout",
     "output_type": "stream",
     "text": [
      "El isomorfismo entre ambas redes es: False\n"
     ]
    }
   ],
   "source": [
    "import networkx.algorithms.isomorphism as iso\n",
    "em = iso.numerical_edge_match('weight', 1)\n",
    "print(\"El isomorfismo entre ambas redes es:\",nx.is_isomorphic(G,F)  )"
   ]
  },
  {
   "cell_type": "markdown",
   "id": "6e3ece46",
   "metadata": {
    "slideshow": {
     "slide_type": "skip"
    }
   },
   "source": [
    "## Conclusion\n",
    "Un analisis de semejanzas entre redes seria mas informativo que un analisis de congruencias por lo que se aplicara dicho analisis posteriormente"
   ]
  }
 ],
 "metadata": {
  "celltoolbar": "Slideshow",
  "kernelspec": {
   "display_name": "Python 3 (ipykernel)",
   "language": "python",
   "name": "python3"
  },
  "language_info": {
   "codemirror_mode": {
    "name": "ipython",
    "version": 3
   },
   "file_extension": ".py",
   "mimetype": "text/x-python",
   "name": "python",
   "nbconvert_exporter": "python",
   "pygments_lexer": "ipython3",
   "version": "3.9.12"
  }
 },
 "nbformat": 4,
 "nbformat_minor": 5
}
